{
 "cells": [
  {
   "cell_type": "code",
   "execution_count": 6,
   "metadata": {},
   "outputs": [],
   "source": [
    "import json\n",
    "a={}"
   ]
  },
  {
   "cell_type": "code",
   "execution_count": 16,
   "metadata": {},
   "outputs": [],
   "source": [
    "a[\"e\"]=[{\"r\",\"4\"},{\"t\",\"2\"}]"
   ]
  },
  {
   "cell_type": "code",
   "execution_count": 20,
   "metadata": {},
   "outputs": [],
   "source": [
    "a"
   ]
  },
  {
   "cell_type": "code",
   "execution_count": 22,
   "metadata": {},
   "outputs": [],
   "source": [
    "ttt = {\n",
    "    \"haha\":{\n",
    "        \"yy\" : 1,\n",
    "        \"ff\" : 4\n",
    "    },\n",
    "    \"uuu\":{\n",
    "        \"rr\": 2\n",
    "    }\n",
    "}"
   ]
  },
  {
   "cell_type": "code",
   "execution_count": 23,
   "metadata": {},
   "outputs": [
    {
     "data": {
      "text/plain": [
       "{'haha': {'yy': 1, 'ff': 4}, 'uuu': {'rr': 2}}"
      ]
     },
     "execution_count": 23,
     "metadata": {},
     "output_type": "execute_result"
    }
   ],
   "source": [
    "ttt"
   ]
  },
  {
   "cell_type": "code",
   "execution_count": 25,
   "metadata": {},
   "outputs": [
    {
     "data": {
      "text/plain": [
       "1"
      ]
     },
     "execution_count": 25,
     "metadata": {},
     "output_type": "execute_result"
    }
   ],
   "source": [
    "ttt.get('haha').get('yy')"
   ]
  },
  {
   "cell_type": "code",
   "execution_count": 50,
   "metadata": {},
   "outputs": [],
   "source": [
    "a[\"tag\"]={'tag_id':1, 'tag_name':'NDR'}, {'tag_id': 2, 'tag_name': 'XDR'}"
   ]
  },
  {
   "cell_type": "code",
   "execution_count": 51,
   "metadata": {},
   "outputs": [
    {
     "data": {
      "text/plain": [
       "{'e': [{'4', 'r'}, {'2', 't'}],\n",
       " 'tag': ({'tag_id': 1, 'tag_name': 'NDR'}, {'tag_id': 2, 'tag_name': 'XDR'}),\n",
       " 'tag_id': 1,\n",
       " 'tag_name': 'NDR'}"
      ]
     },
     "execution_count": 51,
     "metadata": {},
     "output_type": "execute_result"
    }
   ],
   "source": [
    "a"
   ]
  },
  {
   "cell_type": "code",
   "execution_count": 44,
   "metadata": {},
   "outputs": [
    {
     "data": {
      "text/plain": [
       "{'tag_id': 1, 'tag_name': 'NDR'}"
      ]
     },
     "execution_count": 44,
     "metadata": {},
     "output_type": "execute_result"
    }
   ],
   "source": [
    "a[\"tag\"]"
   ]
  },
  {
   "cell_type": "code",
   "execution_count": 48,
   "metadata": {},
   "outputs": [],
   "source": [
    "a.update({'tag_id': 1, 'tag_name': 'NDR'})"
   ]
  },
  {
   "cell_type": "code",
   "execution_count": 49,
   "metadata": {},
   "outputs": [
    {
     "data": {
      "text/plain": [
       "{'e': [{'4', 'r'}, {'2', 't'}],\n",
       " 'tag': {'tag_id': 1, 'tag_name': 'NDR'},\n",
       " 'tag_id': 1,\n",
       " 'tag_name': 'NDR'}"
      ]
     },
     "execution_count": 49,
     "metadata": {},
     "output_type": "execute_result"
    }
   ],
   "source": [
    "a\n"
   ]
  },
  {
   "cell_type": "code",
   "execution_count": 52,
   "metadata": {},
   "outputs": [],
   "source": [
    "a= [a]"
   ]
  },
  {
   "cell_type": "code",
   "execution_count": 53,
   "metadata": {},
   "outputs": [
    {
     "data": {
      "text/plain": [
       "[{'e': [{'4', 'r'}, {'2', 't'}],\n",
       "  'tag': ({'tag_id': 1, 'tag_name': 'NDR'}, {'tag_id': 2, 'tag_name': 'XDR'}),\n",
       "  'tag_id': 1,\n",
       "  'tag_name': 'NDR'}]"
      ]
     },
     "execution_count": 53,
     "metadata": {},
     "output_type": "execute_result"
    }
   ],
   "source": [
    "a"
   ]
  },
  {
   "cell_type": "code",
   "execution_count": 54,
   "metadata": {},
   "outputs": [
    {
     "data": {
      "text/plain": [
       "{'e': [{'4', 'r'}, {'2', 't'}],\n",
       " 'tag': ({'tag_id': 1, 'tag_name': 'NDR'}, {'tag_id': 2, 'tag_name': 'XDR'}),\n",
       " 'tag_id': 1,\n",
       " 'tag_name': 'NDR'}"
      ]
     },
     "execution_count": 54,
     "metadata": {},
     "output_type": "execute_result"
    }
   ],
   "source": [
    "a[0]"
   ]
  },
  {
   "cell_type": "code",
   "execution_count": 55,
   "metadata": {},
   "outputs": [],
   "source": [
    "a[0]['ala']={\"e\":4}"
   ]
  },
  {
   "cell_type": "code",
   "execution_count": 56,
   "metadata": {},
   "outputs": [
    {
     "data": {
      "text/plain": [
       "[{'e': [{'4', 'r'}, {'2', 't'}],\n",
       "  'tag': ({'tag_id': 1, 'tag_name': 'NDR'}, {'tag_id': 2, 'tag_name': 'XDR'}),\n",
       "  'tag_id': 1,\n",
       "  'tag_name': 'NDR',\n",
       "  'ala': {'e': 4}}]"
      ]
     },
     "execution_count": 56,
     "metadata": {},
     "output_type": "execute_result"
    }
   ],
   "source": [
    "a"
   ]
  },
  {
   "cell_type": "code",
   "execution_count": 57,
   "metadata": {},
   "outputs": [],
   "source": [
    "a[0]['Tag']={\"e\":4},{\"f\":6}"
   ]
  },
  {
   "cell_type": "code",
   "execution_count": 58,
   "metadata": {},
   "outputs": [
    {
     "data": {
      "text/plain": [
       "[{'e': [{'4', 'r'}, {'2', 't'}],\n",
       "  'tag': ({'tag_id': 1, 'tag_name': 'NDR'}, {'tag_id': 2, 'tag_name': 'XDR'}),\n",
       "  'tag_id': 1,\n",
       "  'tag_name': 'NDR',\n",
       "  'ala': {'e': 4},\n",
       "  'Tag': ({'e': 4}, {'f': 6})}]"
      ]
     },
     "execution_count": 58,
     "metadata": {},
     "output_type": "execute_result"
    }
   ],
   "source": [
    "a\n"
   ]
  },
  {
   "cell_type": "code",
   "execution_count": null,
   "metadata": {},
   "outputs": [],
   "source": []
  }
 ],
 "metadata": {
  "kernelspec": {
   "display_name": "Python 3.11.3 ('.venv': venv)",
   "language": "python",
   "name": "python3"
  },
  "language_info": {
   "codemirror_mode": {
    "name": "ipython",
    "version": 3
   },
   "file_extension": ".py",
   "mimetype": "text/x-python",
   "name": "python",
   "nbconvert_exporter": "python",
   "pygments_lexer": "ipython3",
   "version": "3.11.3"
  },
  "orig_nbformat": 4,
  "vscode": {
   "interpreter": {
    "hash": "6fef0bba595affe7d41762edcab0d4beb64b4c47d6205c599a3d8d1432fef4f5"
   }
  }
 },
 "nbformat": 4,
 "nbformat_minor": 2
}
